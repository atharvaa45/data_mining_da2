{
 "cells": [
  {
   "cell_type": "code",
   "execution_count": 1,
   "id": "31ba449e",
   "metadata": {},
   "outputs": [],
   "source": [
    "import pandas as pd\n",
    "import numpy as np"
   ]
  },
  {
   "cell_type": "code",
   "execution_count": 2,
   "id": "04ed1034",
   "metadata": {},
   "outputs": [],
   "source": [
    "Marks = { \n",
    "    'Name': ['Raman','Raman','Raman','Raman','Zuhaire','Zuhaire','Zuhaire','Zuhaire',\n",
    "             'Ashravy','Ashravy','Ashravy','Ashravy','Mishti','Mishti','Mishti','Mishti'], \n",
    "    'UT': [1,2,3,4,1,2,3,4,1,2,3,4,1,2,3,4], \n",
    "    'Maths': [22,21,14,np.NaN,20,23,22,19,23,24,12,15,15,18,17,14], \n",
    "    'Science': [21,20,19,np.NaN,17,15,18,20,19,22,25,20,22,21,18,20], \n",
    "    'S.St': [18,17,15,19,22,21,19,17,20,24,19,20,25,25,20,19], \n",
    "    'Hindi': [20,22,24,18,24,25,23,21,15,17,21,20,22,24,25,20], \n",
    "    'Eng': [21,24,23,np.NaN,19,15,13,16,22,21,23,17,22,23,20,18]\n",
    "}"
   ]
  },
  {
   "cell_type": "code",
   "execution_count": 3,
   "id": "0ab6f42f",
   "metadata": {},
   "outputs": [],
   "source": [
    "# Convert dictionary to DataFrame\n",
    "df = pd.DataFrame(Marks)"
   ]
  },
  {
   "cell_type": "code",
   "execution_count": 4,
   "id": "14434b8f",
   "metadata": {},
   "outputs": [
    {
     "name": "stdout",
     "output_type": "stream",
     "text": [
      "Attributes with missing values: ['Maths', 'Science', 'Eng']\n"
     ]
    }
   ],
   "source": [
    "missing_values_attributes = df.columns[df.isnull().any()].tolist()\n",
    "print(f\"Attributes with missing values: {missing_values_attributes}\")"
   ]
  },
  {
   "cell_type": "code",
   "execution_count": 5,
   "id": "11367dc2",
   "metadata": {},
   "outputs": [
    {
     "name": "stdout",
     "output_type": "stream",
     "text": [
      "Total missing values: 3\n"
     ]
    }
   ],
   "source": [
    "total_missing_values = df.isnull().sum().sum()\n",
    "print(f\"Total missing values: {total_missing_values}\")"
   ]
  },
  {
   "cell_type": "code",
   "execution_count": 6,
   "id": "bf561544",
   "metadata": {},
   "outputs": [
    {
     "name": "stdout",
     "output_type": "stream",
     "text": [
      "\n",
      "Data after forward fill:\n",
      "        Name  UT  Maths  Science  S.St  Hindi   Eng\n",
      "0     Raman   1   22.0     21.0    18     20  21.0\n",
      "1     Raman   2   21.0     20.0    17     22  24.0\n",
      "2     Raman   3   14.0     19.0    15     24  23.0\n",
      "3     Raman   4   14.0     19.0    19     18  23.0\n",
      "4   Zuhaire   1   20.0     17.0    22     24  19.0\n",
      "5   Zuhaire   2   23.0     15.0    21     25  15.0\n",
      "6   Zuhaire   3   22.0     18.0    19     23  13.0\n",
      "7   Zuhaire   4   19.0     20.0    17     21  16.0\n",
      "8   Ashravy   1   23.0     19.0    20     15  22.0\n",
      "9   Ashravy   2   24.0     22.0    24     17  21.0\n",
      "10  Ashravy   3   12.0     25.0    19     21  23.0\n",
      "11  Ashravy   4   15.0     20.0    20     20  17.0\n",
      "12   Mishti   1   15.0     22.0    25     22  22.0\n",
      "13   Mishti   2   18.0     21.0    25     24  23.0\n",
      "14   Mishti   3   17.0     18.0    20     25  20.0\n",
      "15   Mishti   4   14.0     20.0    19     20  18.0\n"
     ]
    }
   ],
   "source": [
    "df_ffill = df.fillna(method='ffill')\n",
    "print(\"\\nData after forward fill:\\n\", df_ffill)"
   ]
  },
  {
   "cell_type": "code",
   "execution_count": 7,
   "id": "506c2b66",
   "metadata": {},
   "outputs": [
    {
     "name": "stdout",
     "output_type": "stream",
     "text": [
      "\n",
      "Data after dropping rows with missing values:\n",
      "        Name  UT  Maths  Science  S.St  Hindi   Eng\n",
      "0     Raman   1   22.0     21.0    18     20  21.0\n",
      "1     Raman   2   21.0     20.0    17     22  24.0\n",
      "2     Raman   3   14.0     19.0    15     24  23.0\n",
      "4   Zuhaire   1   20.0     17.0    22     24  19.0\n",
      "5   Zuhaire   2   23.0     15.0    21     25  15.0\n",
      "6   Zuhaire   3   22.0     18.0    19     23  13.0\n",
      "7   Zuhaire   4   19.0     20.0    17     21  16.0\n",
      "8   Ashravy   1   23.0     19.0    20     15  22.0\n",
      "9   Ashravy   2   24.0     22.0    24     17  21.0\n",
      "10  Ashravy   3   12.0     25.0    19     21  23.0\n",
      "11  Ashravy   4   15.0     20.0    20     20  17.0\n",
      "12   Mishti   1   15.0     22.0    25     22  22.0\n",
      "13   Mishti   2   18.0     21.0    25     24  23.0\n",
      "14   Mishti   3   17.0     18.0    20     25  20.0\n",
      "15   Mishti   4   14.0     20.0    19     20  18.0\n"
     ]
    }
   ],
   "source": [
    "df_dropna = df.dropna()\n",
    "print(\"\\nData after dropping rows with missing values:\\n\", df_dropna)"
   ]
  },
  {
   "cell_type": "code",
   "execution_count": 8,
   "id": "7ecafd17",
   "metadata": {},
   "outputs": [
    {
     "name": "stdout",
     "output_type": "stream",
     "text": [
      "\n",
      "Data after filling NaN with mode:\n",
      "        Name  UT  Maths  Science  S.St  Hindi   Eng\n",
      "0     Raman   1   22.0     21.0    18     20  21.0\n",
      "1     Raman   2   21.0     20.0    17     22  24.0\n",
      "2     Raman   3   14.0     19.0    15     24  23.0\n",
      "3     Raman   4   14.0     20.0    19     18  23.0\n",
      "4   Zuhaire   1   20.0     17.0    22     24  19.0\n",
      "5   Zuhaire   2   23.0     15.0    21     25  15.0\n",
      "6   Zuhaire   3   22.0     18.0    19     23  13.0\n",
      "7   Zuhaire   4   19.0     20.0    17     21  16.0\n",
      "8   Ashravy   1   23.0     19.0    20     15  22.0\n",
      "9   Ashravy   2   24.0     22.0    24     17  21.0\n",
      "10  Ashravy   3   12.0     25.0    19     21  23.0\n",
      "11  Ashravy   4   15.0     20.0    20     20  17.0\n",
      "12   Mishti   1   15.0     22.0    25     22  22.0\n",
      "13   Mishti   2   18.0     21.0    25     24  23.0\n",
      "14   Mishti   3   17.0     18.0    20     25  20.0\n",
      "15   Mishti   4   14.0     20.0    19     20  18.0\n"
     ]
    }
   ],
   "source": [
    "df_mode = df.copy()\n",
    "for column in df_mode.columns[2:]:  # Skip 'Name' and 'UT' columns\n",
    "    df_mode[column].fillna(df_mode[column].mode()[0], inplace=True)\n",
    "print(\"\\nData after filling NaN with mode:\\n\", df_mode)"
   ]
  },
  {
   "cell_type": "code",
   "execution_count": 10,
   "id": "a4e942d6",
   "metadata": {},
   "outputs": [
    {
     "name": "stdout",
     "output_type": "stream",
     "text": [
      "Raman's average Hindi marks before handling missing data: 21.00\n"
     ]
    }
   ],
   "source": [
    "# Before handling missing data\n",
    "raman_before = df[df['Name'] == 'Raman']['Hindi'].mean()\n",
    "print(f\"Raman's average Hindi marks before handling missing data: {raman_before:.2f}\")"
   ]
  },
  {
   "cell_type": "code",
   "execution_count": 11,
   "id": "9472f8fe",
   "metadata": {},
   "outputs": [
    {
     "name": "stdout",
     "output_type": "stream",
     "text": [
      "Raman's average Hindi marks after handling missing data: 21.00\n"
     ]
    }
   ],
   "source": [
    "# After handling missing data (using the mode-filled DataFrame)\n",
    "raman_after = df_mode[df_mode['Name'] == 'Raman']['Hindi'].mean()\n",
    "print(f\"Raman's average Hindi marks after handling missing data: {raman_after:.2f}\")"
   ]
  },
  {
   "cell_type": "code",
   "execution_count": 12,
   "id": "02e99698",
   "metadata": {},
   "outputs": [
    {
     "name": "stdout",
     "output_type": "stream",
     "text": [
      "\n",
      "Data after linear interpolation:\n",
      "        Name  UT  Maths  Science  S.St  Hindi   Eng\n",
      "0     Raman   1   22.0     21.0    18     20  21.0\n",
      "1     Raman   2   21.0     20.0    17     22  24.0\n",
      "2     Raman   3   14.0     19.0    15     24  23.0\n",
      "3     Raman   4   17.0     18.0    19     18  21.0\n",
      "4   Zuhaire   1   20.0     17.0    22     24  19.0\n",
      "5   Zuhaire   2   23.0     15.0    21     25  15.0\n",
      "6   Zuhaire   3   22.0     18.0    19     23  13.0\n",
      "7   Zuhaire   4   19.0     20.0    17     21  16.0\n",
      "8   Ashravy   1   23.0     19.0    20     15  22.0\n",
      "9   Ashravy   2   24.0     22.0    24     17  21.0\n",
      "10  Ashravy   3   12.0     25.0    19     21  23.0\n",
      "11  Ashravy   4   15.0     20.0    20     20  17.0\n",
      "12   Mishti   1   15.0     22.0    25     22  22.0\n",
      "13   Mishti   2   18.0     21.0    25     24  23.0\n",
      "14   Mishti   3   17.0     18.0    20     25  20.0\n",
      "15   Mishti   4   14.0     20.0    19     20  18.0\n"
     ]
    }
   ],
   "source": [
    "df_interpolate = df.interpolate()\n",
    "print(\"\\nData after linear interpolation:\\n\", df_interpolate)"
   ]
  },
  {
   "cell_type": "code",
   "execution_count": null,
   "id": "ce2492a4",
   "metadata": {},
   "outputs": [],
   "source": []
  }
 ],
 "metadata": {
  "kernelspec": {
   "display_name": "Python 3 (ipykernel)",
   "language": "python",
   "name": "python3"
  },
  "language_info": {
   "codemirror_mode": {
    "name": "ipython",
    "version": 3
   },
   "file_extension": ".py",
   "mimetype": "text/x-python",
   "name": "python",
   "nbconvert_exporter": "python",
   "pygments_lexer": "ipython3",
   "version": "3.9.19"
  }
 },
 "nbformat": 4,
 "nbformat_minor": 5
}
